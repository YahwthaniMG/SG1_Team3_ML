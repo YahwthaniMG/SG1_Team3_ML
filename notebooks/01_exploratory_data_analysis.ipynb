{
 "cells": [
  {
   "cell_type": "markdown",
   "id": "3b88a907",
   "metadata": {},
   "source": [
    "# Titanic Survival Prediction - Análisis Exploratorio de Datos\n",
    "# ================================================================\n",
    "\n",
    "# ## 📋 Objetivo\n",
    "# Realizar un análisis exploratorio completo del dataset del Titanic para:\n",
    "# - Entender la estructura y calidad de los datos\n",
    "# - Identificar patrones de supervivencia\n",
    "# - Detectar valores faltantes y outliers\n",
    "# - Generar insights para el storytelling"
   ]
  },
  {
   "cell_type": "code",
   "execution_count": 10,
   "id": "634f2795",
   "metadata": {},
   "outputs": [],
   "source": [
    "# ## 1. Importación de Librerías\n",
    "\n",
    "import pandas as pd\n",
    "import numpy as np\n",
    "import matplotlib.pyplot as plt\n",
    "import seaborn as sns\n",
    "import plotly.express as px\n",
    "import plotly.graph_objects as go\n",
    "from plotly.subplots import make_subplots\n",
    "import warnings\n"
   ]
  },
  {
   "cell_type": "code",
   "execution_count": 11,
   "id": "10803439",
   "metadata": {},
   "outputs": [],
   "source": [
    "import os\n",
    "import sys\n",
    "\n",
    "path = os.path.abspath(\"\")\n",
    "ruta_proyecto = os.path.abspath(os.path.join(path, \"..\"))\n",
    "sys.path.append(os.path.join(ruta_proyecto, \"\"))\n",
    "\n",
    "from src.utils.helpers import save_current_plot"
   ]
  },
  {
   "cell_type": "markdown",
   "id": "60f1de13",
   "metadata": {},
   "source": [
    "# 1. Configuración"
   ]
  },
  {
   "cell_type": "code",
   "execution_count": null,
   "id": "45390df9",
   "metadata": {},
   "outputs": [],
   "source": [
    "warnings.filterwarnings(\"ignore\")\n",
    "plt.style.use(\"seaborn-v0_8\")\n",
    "sns.set_palette(\"husl\")\n",
    "\n",
    "# Configuración de visualizaciones\n",
    "plt.rcParams[\"figure.figsize\"] = (12, 8)\n",
    "plt.rcParams[\"font.size\"] = 12\n",
    "\n",
    "print(\"✅ Librerías importadas correctamente\")"
   ]
  },
  {
   "cell_type": "markdown",
   "id": "7c9cfaea",
   "metadata": {},
   "source": [
    "## 2. Carga y Primera Inspección de Datos"
   ]
  },
  {
   "cell_type": "code",
   "execution_count": null,
   "id": "aa897d69",
   "metadata": {},
   "outputs": [],
   "source": [
    "# Cargar el dataset\n",
    "df = pd.read_csv(\"../data/raw/titanic.csv\")\n",
    "\n",
    "print(\"🚢 DATASET DEL TITANIC - PRIMERA INSPECCIÓN\")\n",
    "print(\"=\" * 50)\n",
    "print(f\"📊 Dimensiones del dataset: {df.shape}\")\n",
    "print(f\"👥 Total de pasajeros: {len(df)}\")\n",
    "print(f\"📈 Total de características: {len(df.columns)}\")"
   ]
  },
  {
   "cell_type": "markdown",
   "id": "ccca221a",
   "metadata": {},
   "source": [
    "## 3. Información General del Dataset"
   ]
  },
  {
   "cell_type": "code",
   "execution_count": null,
   "id": "c5b75301",
   "metadata": {},
   "outputs": [],
   "source": [
    "print(\"\\n📋 INFORMACIÓN GENERAL\")\n",
    "print(\"=\" * 30)\n",
    "print(df.info())\n",
    "\n",
    "print(\"\\n📊 ESTADÍSTICAS DESCRIPTIVAS\")\n",
    "print(\"=\" * 30)\n",
    "print(df.describe())\n",
    "\n",
    "print(\"\\n🔍 PRIMERAS 5 FILAS\")\n",
    "print(\"=\" * 20)\n",
    "print(df.head())"
   ]
  },
  {
   "cell_type": "markdown",
   "id": "a9141a77",
   "metadata": {},
   "source": [
    "## 4. Análisis de Valores Faltantes"
   ]
  },
  {
   "cell_type": "code",
   "execution_count": null,
   "id": "efaa51fb",
   "metadata": {},
   "outputs": [],
   "source": [
    "print(\"\\n❌ ANÁLISIS DE VALORES FALTANTES\")\n",
    "print(\"=\" * 35)\n",
    "\n",
    "missing_data = df.isnull().sum()\n",
    "missing_percent = (missing_data / len(df)) * 100\n",
    "\n",
    "missing_df = pd.DataFrame(\n",
    "    {\n",
    "        \"Columna\": missing_data.index,\n",
    "        \"Valores Faltantes\": missing_data.values,\n",
    "        \"Porcentaje (%)\": missing_percent.values,\n",
    "    }\n",
    ").sort_values(\"Valores Faltantes\", ascending=False)\n",
    "\n",
    "print(missing_df)\n",
    "\n",
    "# Visualización de valores faltantes\n",
    "plt.figure(figsize=(12, 6))\n",
    "plt.subplot(1, 2, 1)\n",
    "missing_df_filtered = missing_df[missing_df[\"Valores Faltantes\"] > 0]\n",
    "plt.bar(\n",
    "    missing_df_filtered[\"Columna\"],\n",
    "    missing_df_filtered[\"Valores Faltantes\"],\n",
    "    color=\"coral\",\n",
    ")\n",
    "plt.title(\"Valores Faltantes por Columna\")\n",
    "plt.xlabel(\"Columnas\")\n",
    "plt.ylabel(\"Cantidad\")\n",
    "plt.xticks(rotation=45)\n",
    "\n",
    "plt.subplot(1, 2, 2)\n",
    "plt.bar(\n",
    "    missing_df_filtered[\"Columna\"],\n",
    "    missing_df_filtered[\"Porcentaje (%)\"],\n",
    "    color=\"lightblue\",\n",
    ")\n",
    "plt.title(\"Porcentaje de Valores Faltantes\")\n",
    "plt.xlabel(\"Columnas\")\n",
    "plt.ylabel(\"Porcentaje (%)\")\n",
    "plt.xticks(rotation=45)\n",
    "\n",
    "plt.tight_layout()\n",
    "save_current_plot(\"4-Valores Faltantes\", \"../results/figures/eda_plots\")\n",
    "plt.show()"
   ]
  },
  {
   "cell_type": "markdown",
   "id": "3267f292",
   "metadata": {},
   "source": [
    "## 5. Análisis de la Variable Objetivo (Survived)"
   ]
  },
  {
   "cell_type": "code",
   "execution_count": null,
   "id": "81cc7f7b",
   "metadata": {},
   "outputs": [],
   "source": [
    "print(\"\\n🎯 ANÁLISIS DE SUPERVIVENCIA\")\n",
    "print(\"=\" * 30)\n",
    "\n",
    "survival_counts = df[\"Survived\"].value_counts()\n",
    "survival_rate = df[\"Survived\"].mean()\n",
    "\n",
    "print(f\"👥 Total de pasajeros: {len(df)}\")\n",
    "print(f\"💀 Fallecidos: {survival_counts[0]} ({survival_counts[0]/len(df)*100:.1f}%)\")\n",
    "print(\n",
    "    f\"✅ Supervivientes: {survival_counts[1]} ({survival_counts[1]/len(df)*100:.1f}%)\"\n",
    ")\n",
    "print(f\"📊 Tasa de supervivencia: {survival_rate:.3f} ({survival_rate*100:.1f}%)\")\n",
    "\n",
    "# Visualización de supervivencia\n",
    "fig, axes = plt.subplots(1, 2, figsize=(15, 6))\n",
    "\n",
    "# Gráfico de barras\n",
    "survival_counts.plot(kind=\"bar\", ax=axes[0], color=[\"crimson\", \"forestgreen\"])\n",
    "axes[0].set_title(\"Distribución de Supervivencia\")\n",
    "axes[0].set_xlabel(\"Supervivencia (0=No, 1=Sí)\")\n",
    "axes[0].set_ylabel(\"Número de Pasajeros\")\n",
    "axes[0].set_xticklabels([\"Fallecidos\", \"Supervivientes\"], rotation=0)\n",
    "\n",
    "# Gráfico de pastel\n",
    "axes[1].pie(\n",
    "    survival_counts.values,\n",
    "    labels=[\"Fallecidos\", \"Supervivientes\"],\n",
    "    colors=[\"crimson\", \"forestgreen\"],\n",
    "    autopct=\"%1.1f%%\",\n",
    "    startangle=90,\n",
    ")\n",
    "axes[1].set_title(\"Proporción de Supervivencia\")\n",
    "\n",
    "plt.tight_layout()\n",
    "save_current_plot(\"5-Variable Objetivo\", \"../results/figures/eda_plots\")\n",
    "plt.show()"
   ]
  },
  {
   "cell_type": "markdown",
   "id": "2d82d407",
   "metadata": {},
   "source": [
    "## 6. Análisis por Características Demográficas"
   ]
  },
  {
   "cell_type": "markdown",
   "id": "2fe73980",
   "metadata": {},
   "source": [
    "### 6.1 Supervivencia por Género"
   ]
  },
  {
   "cell_type": "code",
   "execution_count": null,
   "id": "be0021ac",
   "metadata": {},
   "outputs": [],
   "source": [
    "print(\"\\n👫 SUPERVIVENCIA POR GÉNERO\")\n",
    "print(\"=\" * 25)\n",
    "\n",
    "gender_survival = pd.crosstab(df[\"Sex\"], df[\"Survived\"], margins=True)\n",
    "gender_survival_pct = pd.crosstab(df[\"Sex\"], df[\"Survived\"], normalize=\"index\") * 100\n",
    "\n",
    "print(\"Tabla de contingencia:\")\n",
    "print(gender_survival)\n",
    "print(\"\\nPorcentajes por género:\")\n",
    "print(gender_survival_pct.round(1))\n",
    "\n",
    "# Visualización\n",
    "plt.figure(figsize=(15, 5))\n",
    "\n",
    "plt.subplot(1, 3, 1)\n",
    "gender_survival_pct.plot(kind=\"bar\", ax=plt.gca(), color=[\"crimson\", \"forestgreen\"])\n",
    "plt.title(\"Tasa de Supervivencia por Género\")\n",
    "plt.xlabel(\"Género\")\n",
    "plt.ylabel(\"Porcentaje (%)\")\n",
    "plt.legend([\"Fallecidos\", \"Supervivientes\"])\n",
    "plt.xticks(rotation=0)\n",
    "\n",
    "plt.subplot(1, 3, 2)\n",
    "df.groupby(\"Sex\")[\"Survived\"].mean().plot(kind=\"bar\", color=\"skyblue\")\n",
    "plt.title(\"Tasa de Supervivencia Promedio por Género\")\n",
    "plt.xlabel(\"Género\")\n",
    "plt.ylabel(\"Tasa de Supervivencia\")\n",
    "plt.xticks(rotation=0)\n",
    "\n",
    "plt.subplot(1, 3, 3)\n",
    "sns.countplot(data=df, x=\"Sex\", hue=\"Survived\", palette=[\"crimson\", \"forestgreen\"])\n",
    "plt.title(\"Conteo de Supervivencia por Género\")\n",
    "plt.xlabel(\"Género\")\n",
    "plt.ylabel(\"Número de Pasajeros\")\n",
    "\n",
    "plt.tight_layout()\n",
    "save_current_plot(\"6_1-Características Demográficas\", \"../results/figures/eda_plots\")\n",
    "plt.show()"
   ]
  },
  {
   "cell_type": "markdown",
   "id": "f912fe63",
   "metadata": {},
   "source": [
    "### 6.2 Supervivencia por Clase"
   ]
  },
  {
   "cell_type": "code",
   "execution_count": null,
   "id": "3bfe1522",
   "metadata": {},
   "outputs": [],
   "source": [
    "print(\"\\n🎫 SUPERVIVENCIA POR CLASE\")\n",
    "print(\"=\" * 25)\n",
    "\n",
    "class_survival = pd.crosstab(df[\"Pclass\"], df[\"Survived\"], margins=True)\n",
    "class_survival_pct = pd.crosstab(df[\"Pclass\"], df[\"Survived\"], normalize=\"index\") * 100\n",
    "\n",
    "print(\"Tabla de contingencia:\")\n",
    "print(class_survival)\n",
    "print(\"\\nPorcentajes por clase:\")\n",
    "print(class_survival_pct.round(1))\n",
    "\n",
    "plt.figure(figsize=(15, 5))\n",
    "\n",
    "plt.subplot(1, 3, 1)\n",
    "class_survival_pct.plot(kind=\"bar\", ax=plt.gca(), color=[\"crimson\", \"forestgreen\"])\n",
    "plt.title(\"Tasa de Supervivencia por Clase\")\n",
    "plt.xlabel(\"Clase\")\n",
    "plt.ylabel(\"Porcentaje (%)\")\n",
    "plt.legend([\"Fallecidos\", \"Supervivientes\"])\n",
    "plt.xticks(rotation=0)\n",
    "\n",
    "plt.subplot(1, 3, 2)\n",
    "df.groupby(\"Pclass\")[\"Survived\"].mean().plot(kind=\"bar\", color=\"orange\")\n",
    "plt.title(\"Tasa de Supervivencia Promedio por Clase\")\n",
    "plt.xlabel(\"Clase\")\n",
    "plt.ylabel(\"Tasa de Supervivencia\")\n",
    "plt.xticks(rotation=0)\n",
    "\n",
    "plt.subplot(1, 3, 3)\n",
    "sns.countplot(data=df, x=\"Pclass\", hue=\"Survived\", palette=[\"crimson\", \"forestgreen\"])\n",
    "plt.title(\"Conteo de Supervivencia por Clase\")\n",
    "plt.xlabel(\"Clase\")\n",
    "plt.ylabel(\"Número de Pasajeros\")\n",
    "\n",
    "plt.tight_layout()\n",
    "save_current_plot(\"6_2-Supervivencia por Clase\",\"../results/figures/eda_plots\")\n",
    "plt.show()"
   ]
  },
  {
   "cell_type": "markdown",
   "id": "4ba2789b",
   "metadata": {},
   "source": [
    "### 6.3 Supervivencia por Puerto de Embarque"
   ]
  },
  {
   "cell_type": "code",
   "execution_count": null,
   "id": "23e41a8b",
   "metadata": {},
   "outputs": [],
   "source": [
    "print(\"\\n⚓ SUPERVIVENCIA POR PUERTO DE EMBARQUE\")\n",
    "print(\"=\" * 35)\n",
    "\n",
    "# Eliminar valores nulos para este análisis\n",
    "df_embarked_clean = df.dropna(subset=[\"Embarked\"])\n",
    "\n",
    "embarked_survival = pd.crosstab(\n",
    "    df_embarked_clean[\"Embarked\"], df_embarked_clean[\"Survived\"], margins=True\n",
    ")\n",
    "embarked_survival_pct = (\n",
    "    pd.crosstab(\n",
    "        df_embarked_clean[\"Embarked\"], df_embarked_clean[\"Survived\"], normalize=\"index\"\n",
    "    )\n",
    "    * 100\n",
    ")\n",
    "\n",
    "print(\"Tabla de contingencia:\")\n",
    "print(embarked_survival)\n",
    "print(\"\\nPorcentajes por puerto:\")\n",
    "print(embarked_survival_pct.round(1))\n",
    "\n",
    "plt.figure(figsize=(12, 4))\n",
    "\n",
    "plt.subplot(1, 2, 1)\n",
    "embarked_survival_pct.plot(kind=\"bar\", ax=plt.gca(), color=[\"crimson\", \"forestgreen\"])\n",
    "plt.title(\"Tasa de Supervivencia por Puerto de Embarque\")\n",
    "plt.xlabel(\"Puerto (C=Cherbourg, Q=Queenstown, S=Southampton)\")\n",
    "plt.ylabel(\"Porcentaje (%)\")\n",
    "plt.legend([\"Fallecidos\", \"Supervivientes\"])\n",
    "plt.xticks(rotation=0)\n",
    "\n",
    "plt.subplot(1, 2, 2)\n",
    "df_embarked_clean.groupby(\"Embarked\")[\"Survived\"].mean().plot(\n",
    "    kind=\"bar\", color=\"purple\"\n",
    ")\n",
    "plt.title(\"Tasa de Supervivencia Promedio por Puerto\")\n",
    "plt.xlabel(\"Puerto\")\n",
    "plt.ylabel(\"Tasa de Supervivencia\")\n",
    "plt.xticks(rotation=0)\n",
    "\n",
    "plt.tight_layout()\n",
    "save_current_plot(\"6_3-Puerto de Embarque\",\"../results/figures/eda_plots\")\n",
    "plt.show()"
   ]
  },
  {
   "cell_type": "markdown",
   "id": "eb134889",
   "metadata": {},
   "source": [
    "## 7. Análisis de Variables Numéricas"
   ]
  },
  {
   "cell_type": "markdown",
   "id": "23ae4eb5",
   "metadata": {},
   "source": [
    "### 7.1 Distribución de Edad"
   ]
  },
  {
   "cell_type": "code",
   "execution_count": null,
   "id": "2dcb8710",
   "metadata": {},
   "outputs": [],
   "source": [
    "print(\"\\n👶👴 ANÁLISIS DE EDAD\")\n",
    "print(\"=\" * 20)\n",
    "\n",
    "print(f\"Edad promedio: {df['Age'].mean():.1f} años\")\n",
    "print(f\"Edad mediana: {df['Age'].median():.1f} años\")\n",
    "print(f\"Edad mínima: {df['Age'].min():.1f} años\")\n",
    "print(f\"Edad máxima: {df['Age'].max():.1f} años\")\n",
    "print(f\"Desviación estándar: {df['Age'].std():.1f} años\")\n",
    "\n",
    "plt.figure(figsize=(15, 5))\n",
    "\n",
    "plt.subplot(1, 3, 1)\n",
    "df[\"Age\"].hist(bins=30, color=\"skyblue\", alpha=0.7)\n",
    "plt.title(\"Distribución de Edad\")\n",
    "plt.xlabel(\"Edad\")\n",
    "plt.ylabel(\"Frecuencia\")\n",
    "\n",
    "plt.subplot(1, 3, 2)\n",
    "sns.boxplot(data=df, y=\"Age\", color=\"lightcoral\")\n",
    "plt.title(\"Boxplot de Edad\")\n",
    "\n",
    "plt.subplot(1, 3, 3)\n",
    "sns.boxplot(data=df, x=\"Survived\", y=\"Age\", palette=[\"crimson\", \"forestgreen\"])\n",
    "plt.title(\"Distribución de Edad por Supervivencia\")\n",
    "plt.xlabel(\"Supervivencia (0=No, 1=Sí)\")\n",
    "\n",
    "plt.tight_layout()\n",
    "save_current_plot(\"7_1-Distribución de Edad\", \"../results/figures/eda_plots\")\n",
    "plt.show()"
   ]
  },
  {
   "cell_type": "markdown",
   "id": "6e688959",
   "metadata": {},
   "source": [
    "### 7.2 Distribución de Tarifa"
   ]
  },
  {
   "cell_type": "code",
   "execution_count": null,
   "id": "16df1aa6",
   "metadata": {},
   "outputs": [],
   "source": [
    "print(\"\\n💰 ANÁLISIS DE TARIFA\")\n",
    "print(\"=\" * 20)\n",
    "\n",
    "print(f\"Tarifa promedio: ${df['Fare'].mean():.2f}\")\n",
    "print(f\"Tarifa mediana: ${df['Fare'].median():.2f}\")\n",
    "print(f\"Tarifa mínima: ${df['Fare'].min():.2f}\")\n",
    "print(f\"Tarifa máxima: ${df['Fare'].max():.2f}\")\n",
    "\n",
    "plt.figure(figsize=(15, 5))\n",
    "\n",
    "plt.subplot(1, 3, 1)\n",
    "df[\"Fare\"].hist(bins=30, color=\"gold\", alpha=0.7)\n",
    "plt.title(\"Distribución de Tarifa\")\n",
    "plt.xlabel(\"Tarifa ($)\")\n",
    "plt.ylabel(\"Frecuencia\")\n",
    "\n",
    "plt.subplot(1, 3, 2)\n",
    "sns.boxplot(data=df, y=\"Fare\", color=\"gold\")\n",
    "plt.title(\"Boxplot de Tarifa\")\n",
    "\n",
    "plt.subplot(1, 3, 3)\n",
    "sns.boxplot(data=df, x=\"Survived\", y=\"Fare\", palette=[\"crimson\", \"forestgreen\"])\n",
    "plt.title(\"Distribución de Tarifa por Supervivencia\")\n",
    "plt.xlabel(\"Supervivencia (0=No, 1=Sí)\")\n",
    "\n",
    "plt.tight_layout()\n",
    "save_current_plot(\"7_2-Distribución de Tarifa\", \"../results/figures/eda_plots\")\n",
    "plt.show()"
   ]
  },
  {
   "cell_type": "markdown",
   "id": "f66b6bfe",
   "metadata": {},
   "source": [
    "## 8. Análisis de Correlaciones"
   ]
  },
  {
   "cell_type": "code",
   "execution_count": null,
   "id": "46dc051e",
   "metadata": {},
   "outputs": [],
   "source": [
    "print(\"\\n🔗 MATRIZ DE CORRELACIÓN\")\n",
    "print(\"=\" * 25)\n",
    "\n",
    "# Seleccionar solo variables numéricas\n",
    "numeric_cols = df.select_dtypes(include=[np.number]).columns\n",
    "correlation_matrix = df[numeric_cols].corr()\n",
    "\n",
    "plt.figure(figsize=(10, 8))\n",
    "sns.heatmap(\n",
    "    correlation_matrix,\n",
    "    annot=True,\n",
    "    cmap=\"coolwarm\",\n",
    "    center=0,\n",
    "    square=True,\n",
    "    linewidths=0.5,\n",
    ")\n",
    "plt.title(\"Matriz de Correlación de Variables Numéricas\")\n",
    "plt.tight_layout()\n",
    "save_current_plot(\"8-Correlaciones\", \"../results/figures/eda_plots\")\n",
    "plt.show()\n",
    "\n",
    "# Correlaciones con la variable objetivo\n",
    "print(\"Correlaciones con Supervivencia:\")\n",
    "survival_corr = correlation_matrix[\"Survived\"].sort_values(ascending=False)\n",
    "print(survival_corr)"
   ]
  },
  {
   "cell_type": "markdown",
   "id": "e361938f",
   "metadata": {},
   "source": [
    "## 9. Análisis Combinado: Género, Clase y Supervivencia"
   ]
  },
  {
   "cell_type": "code",
   "execution_count": null,
   "id": "1586902e",
   "metadata": {},
   "outputs": [],
   "source": [
    "print(\"\\n👥🎫 ANÁLISIS COMBINADO: GÉNERO Y CLASE\")\n",
    "print(\"=\" * 40)\n",
    "\n",
    "# Crear tabla cruzada\n",
    "combined_analysis = (\n",
    "    df.groupby([\"Sex\", \"Pclass\"])[\"Survived\"].agg([\"count\", \"sum\", \"mean\"]).round(3)\n",
    ")\n",
    "combined_analysis.columns = [\"Total\", \"Supervivientes\", \"Tasa_Supervivencia\"]\n",
    "print(combined_analysis)\n",
    "\n",
    "# Visualización\n",
    "plt.figure(figsize=(15, 5))\n",
    "\n",
    "plt.subplot(1, 3, 1)\n",
    "sns.barplot(\n",
    "    data=df, x=\"Pclass\", y=\"Survived\", hue=\"Sex\", palette=[\"lightcoral\", \"lightblue\"]\n",
    ")\n",
    "plt.title(\"Tasa de Supervivencia por Clase y Género\")\n",
    "plt.xlabel(\"Clase\")\n",
    "plt.ylabel(\"Tasa de Supervivencia\")\n",
    "\n",
    "plt.subplot(1, 3, 2)\n",
    "pivot_table = df.pivot_table(\n",
    "    values=\"Survived\", index=\"Sex\", columns=\"Pclass\", aggfunc=\"mean\"\n",
    ")\n",
    "sns.heatmap(\n",
    "    pivot_table, annot=True, cmap=\"RdYlGn\", cbar_kws={\"label\": \"Tasa de Supervivencia\"}\n",
    ")\n",
    "plt.title(\"Heatmap: Supervivencia por Género y Clase\")\n",
    "\n",
    "plt.subplot(1, 3, 3)\n",
    "sns.countplot(data=df, x=\"Pclass\", hue=\"Sex\", palette=[\"lightcoral\", \"lightblue\"])\n",
    "plt.title(\"Distribución de Pasajeros por Clase y Género\")\n",
    "plt.xlabel(\"Clase\")\n",
    "plt.ylabel(\"Número de Pasajeros\")\n",
    "\n",
    "plt.tight_layout()\n",
    "save_current_plot(\"9-Análisis Combinado\", \"../results/figures/eda_plots\")\n",
    "plt.show()"
   ]
  }
 ],
 "metadata": {
  "kernelspec": {
   "display_name": "venv",
   "language": "python",
   "name": "python3"
  },
  "language_info": {
   "codemirror_mode": {
    "name": "ipython",
    "version": 3
   },
   "file_extension": ".py",
   "mimetype": "text/x-python",
   "name": "python",
   "nbconvert_exporter": "python",
   "pygments_lexer": "ipython3",
   "version": "3.13.2"
  }
 },
 "nbformat": 4,
 "nbformat_minor": 5
}
