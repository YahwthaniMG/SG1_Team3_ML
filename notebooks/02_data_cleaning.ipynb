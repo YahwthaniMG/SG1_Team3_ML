{
 "cells": [
  {
   "cell_type": "markdown",
   "id": "a4fe01ab",
   "metadata": {},
   "source": [
    "# Titanic Survival Prediction - Data Cleaning\n",
    "# ============================================\n",
    "\n",
    "# ## 📋 Objective\n",
    "# Clean and prepare the Titanic dataset for modeling:\n",
    "# - Handle missing values (Age: 19.9%, Cabin: 77.1%, Embarked: 0.2%)\n",
    "# - Detect and treat outliers\n",
    "# - Remove irrelevant variables\n",
    "# - Validate data consistency\n",
    "# - Create clean dataset for feature engineering"
   ]
  },
  {
   "cell_type": "markdown",
   "id": "a80c964f",
   "metadata": {},
   "source": [
    "## 1. Library Import"
   ]
  },
  {
   "cell_type": "code",
   "execution_count": 1,
   "id": "61d20f5a",
   "metadata": {},
   "outputs": [],
   "source": [
    "import pandas as pd\n",
    "import numpy as np\n",
    "import matplotlib.pyplot as plt\n",
    "import seaborn as sns\n",
    "from scipy import stats\n",
    "import warnings\n",
    "\n",
    "# Helper functions\n",
    "import sys\n",
    "import os\n",
    "sys.path.append('../src')\n",
    "from utils.helpers import save_current_plot"
   ]
  },
  {
   "cell_type": "code",
   "execution_count": 2,
   "id": "274b9449",
   "metadata": {},
   "outputs": [
    {
     "name": "stdout",
     "output_type": "stream",
     "text": [
      "✅ Libraries imported successfully\n"
     ]
    }
   ],
   "source": [
    "# Configuration\n",
    "warnings.filterwarnings(\"ignore\")\n",
    "plt.style.use(\"seaborn-v0_8\")\n",
    "sns.set_palette(\"husl\")\n",
    "\n",
    "print(\"✅ Libraries imported successfully\")"
   ]
  },
  {
   "cell_type": "markdown",
   "id": "9eea4f76",
   "metadata": {},
   "source": [
    "## 2. Data Loading and Backup"
   ]
  },
  {
   "cell_type": "code",
   "execution_count": 3,
   "id": "8b992d2e",
   "metadata": {},
   "outputs": [
    {
     "name": "stdout",
     "output_type": "stream",
     "text": [
      "🚢 DATA CLEANING STARTED\n",
      "========================================\n",
      "📊 Original dataset: (891, 12)\n",
      "👥 Total records: 891\n",
      "💾 Creating backup of original data...\n"
     ]
    }
   ],
   "source": [
    "# Load original dataset\n",
    "df_original = pd.read_csv(\"../data/raw/titanic.csv\")\n",
    "df = df_original.copy()  # Working copy\n",
    "\n",
    "print(\"🚢 DATA CLEANING STARTED\")\n",
    "print(\"=\" * 40)\n",
    "print(f\"📊 Original dataset: {df.shape}\")\n",
    "print(f\"👥 Total records: {len(df)}\")\n",
    "\n",
    "# Original data backup\n",
    "print(\"💾 Creating backup of original data...\")"
   ]
  },
  {
   "cell_type": "markdown",
   "id": "5059d57e",
   "metadata": {},
   "source": [
    "## 3. Initial Data Quality Analysis"
   ]
  },
  {
   "cell_type": "code",
   "execution_count": 4,
   "id": "c8029d6a",
   "metadata": {},
   "outputs": [
    {
     "name": "stdout",
     "output_type": "stream",
     "text": [
      "\n",
      "🔍 DATA QUALITY ANALYSIS\n",
      "===================================\n",
      "Dataset information:\n",
      "<class 'pandas.core.frame.DataFrame'>\n",
      "RangeIndex: 891 entries, 0 to 890\n",
      "Data columns (total 12 columns):\n",
      " #   Column       Non-Null Count  Dtype  \n",
      "---  ------       --------------  -----  \n",
      " 0   PassengerId  891 non-null    int64  \n",
      " 1   Survived     891 non-null    int64  \n",
      " 2   Pclass       891 non-null    int64  \n",
      " 3   Name         891 non-null    object \n",
      " 4   Sex          891 non-null    object \n",
      " 5   Age          714 non-null    float64\n",
      " 6   SibSp        891 non-null    int64  \n",
      " 7   Parch        891 non-null    int64  \n",
      " 8   Ticket       891 non-null    object \n",
      " 9   Fare         891 non-null    float64\n",
      " 10  Cabin        204 non-null    object \n",
      " 11  Embarked     889 non-null    object \n",
      "dtypes: float64(2), int64(5), object(5)\n",
      "memory usage: 83.7+ KB\n",
      "None\n",
      "\n",
      "❌ DETAILED MISSING VALUES:\n",
      "                  Column  Missing_Count  Missing_Percentage Data_Type\n",
      "Cabin              Cabin            687               77.10    object\n",
      "Age                  Age            177               19.87   float64\n",
      "Embarked        Embarked              2                0.22    object\n",
      "PassengerId  PassengerId              0                0.00     int64\n",
      "Name                Name              0                0.00    object\n",
      "Pclass            Pclass              0                0.00     int64\n",
      "Survived        Survived              0                0.00     int64\n",
      "Sex                  Sex              0                0.00    object\n",
      "Parch              Parch              0                0.00     int64\n",
      "SibSp              SibSp              0                0.00     int64\n",
      "Fare                Fare              0                0.00   float64\n",
      "Ticket            Ticket              0                0.00    object\n"
     ]
    },
    {
     "data": {
      "image/png": "[encoded data removed]",
      "text/plain": [
       "<Figure size 1200x600 with 2 Axes>"
      ]
     },
     "metadata": {},
     "output_type": "display_data"
    }
   ],
   "source": [
    "print(\"\\n🔍 DATA QUALITY ANALYSIS\")\n",
    "print(\"=\" * 35)\n",
    "\n",
    "# General information\n",
    "print(\"Dataset information:\")\n",
    "print(df.info())\n",
    "\n",
    "# Missing values\n",
    "print(\"\\n❌ DETAILED MISSING VALUES:\")\n",
    "missing_analysis = pd.DataFrame(\n",
    "    {\n",
    "        \"Column\": df.columns,\n",
    "        \"Missing_Count\": df.isnull().sum(),\n",
    "        \"Missing_Percentage\": (df.isnull().sum() / len(df) * 100).round(2),\n",
    "        \"Data_Type\": df.dtypes,\n",
    "    }\n",
    ")\n",
    "missing_analysis = missing_analysis.sort_values(\"Missing_Count\", ascending=False)\n",
    "print(missing_analysis)\n",
    "\n",
    "# Visualize missing values\n",
    "plt.figure(figsize=(12, 6))\n",
    "\n",
    "plt.subplot(1, 2, 1)\n",
    "missing_data = df.isnull().sum()\n",
    "missing_data_filtered = missing_data[missing_data > 0]\n",
    "plt.bar(missing_data_filtered.index, missing_data_filtered.values, color=\"coral\")\n",
    "plt.title(\"Missing Values by Column\")\n",
    "plt.xlabel(\"Columns\")\n",
    "plt.ylabel(\"Count\")\n",
    "plt.xticks(rotation=45)\n",
    "\n",
    "plt.subplot(1, 2, 2)\n",
    "missing_percentage = missing_data / len(df) * 100\n",
    "missing_percentage_filtered = missing_percentage[missing_percentage > 0]\n",
    "plt.bar(\n",
    "    missing_percentage_filtered.index,\n",
    "    missing_percentage_filtered.values,\n",
    "    color=\"lightblue\",\n",
    ")\n",
    "plt.title(\"Missing Values Percentage\")\n",
    "plt.xlabel(\"Columns\")\n",
    "plt.ylabel(\"Percentage (%)\")\n",
    "plt.xticks(rotation=45)\n",
    "\n",
    "plt.tight_layout()\n",
    "plt.show()"
   ]
  },
  {
   "cell_type": "markdown",
   "id": "bdafb9ad",
   "metadata": {},
   "source": [
    "## 4. Variable-Specific Cleaning Strategy"
   ]
  },
  {
   "cell_type": "code",
   "execution_count": 5,
   "id": "443e79eb",
   "metadata": {},
   "outputs": [
    {
     "name": "stdout",
     "output_type": "stream",
     "text": [
      "\n",
      "🎯 CLEANING STRATEGY\n",
      "==============================\n"
     ]
    }
   ],
   "source": [
    "print(\"\\n🎯 CLEANING STRATEGY\")\n",
    "print(\"=\" * 30)"
   ]
  },
  {
   "cell_type": "markdown",
   "id": "cad61526",
   "metadata": {},
   "source": [
    "### 4.1 Variables to Remove"
   ]
  },
  {
   "cell_type": "code",
   "execution_count": 6,
   "id": "6fd818ac",
   "metadata": {},
   "outputs": [
    {
     "name": "stdout",
     "output_type": "stream",
     "text": [
      "🗑️ REMOVING IRRELEVANT VARIABLES:\n",
      "Variables to remove: ['PassengerId', 'Name', 'Ticket']\n",
      "Reasons:\n",
      "- PassengerId: Unique identifier, no predictive value\n",
      "- Name: Personal information, will extract titles separately\n",
      "- Ticket: Alphanumeric code with no clear pattern\n",
      "✅ Variables removed. New dimensions: (891, 9)\n"
     ]
    }
   ],
   "source": [
    "print(\"🗑️ REMOVING IRRELEVANT VARIABLES:\")\n",
    "\n",
    "# Variables identified as non-predictive in EDA\n",
    "columns_to_drop = [\"PassengerId\", \"Name\", \"Ticket\"]\n",
    "\n",
    "print(f\"Variables to remove: {columns_to_drop}\")\n",
    "print(\"Reasons:\")\n",
    "print(\"- PassengerId: Unique identifier, no predictive value\")\n",
    "print(\"- Name: Personal information, will extract titles separately\")\n",
    "print(\"- Ticket: Alphanumeric code with no clear pattern\")\n",
    "\n",
    "# Remove variables\n",
    "df_clean = df.drop(columns=columns_to_drop)\n",
    "print(f\"✅ Variables removed. New dimensions: {df_clean.shape}\")"
   ]
  },
  {
   "cell_type": "markdown",
   "id": "ea4b2338",
   "metadata": {},
   "source": [
    "### 4.2 Handling Cabin Variable (77.1% missing)"
   ]
  },
  {
   "cell_type": "code",
   "execution_count": 7,
   "id": "cf20f25d",
   "metadata": {},
   "outputs": [
    {
     "name": "stdout",
     "output_type": "stream",
     "text": [
      "\n",
      "🏠 HANDLING CABIN VARIABLE:\n",
      "Missing values: 687 (77.1%)\n",
      "Records with cabin: 204\n",
      "Records without cabin: 687\n",
      "\n",
      "Survival by cabin availability:\n",
      "Survived       0    1  All\n",
      "Cabin_Known               \n",
      "0            481  206  687\n",
      "1             68  136  204\n",
      "All          549  342  891\n",
      "\n",
      "Percentages:\n",
      "Survived        0     1\n",
      "Cabin_Known            \n",
      "0            70.0  30.0\n",
      "1            33.3  66.7\n",
      "✅ Graph saved: ../results/figures/eda_plots\\cabin_analysis.png\n"
     ]
    },
    {
     "data": {
      "image/png": "[encoded data removed]",
      "text/plain": [
       "<Figure size 1000x400 with 2 Axes>"
      ]
     },
     "metadata": {},
     "output_type": "display_data"
    },
    {
     "name": "stdout",
     "output_type": "stream",
     "text": [
      "✅ Cabin variable replaced with Cabin_Known (binary)\n"
     ]
    }
   ],
   "source": [
    "print(\"\\n🏠 HANDLING CABIN VARIABLE:\")\n",
    "print(\n",
    "    f\"Missing values: {df_clean['Cabin'].isnull().sum()} ({df_clean['Cabin'].isnull().mean()*100:.1f}%)\"\n",
    ")\n",
    "\n",
    "# Analyze cabin patterns\n",
    "cabin_available = df_clean[\"Cabin\"].notna()\n",
    "print(f\"Records with cabin: {cabin_available.sum()}\")\n",
    "print(f\"Records without cabin: {(~cabin_available).sum()}\")\n",
    "\n",
    "# Create binary variable: had cabin assigned or not\n",
    "df_clean[\"Cabin_Known\"] = cabin_available.astype(int)\n",
    "\n",
    "# Analyze survival by cabin availability\n",
    "cabin_survival = pd.crosstab(\n",
    "    df_clean[\"Cabin_Known\"], df_clean[\"Survived\"], margins=True\n",
    ")\n",
    "print(\"\\nSurvival by cabin availability:\")\n",
    "print(cabin_survival)\n",
    "\n",
    "cabin_survival_pct = (\n",
    "    pd.crosstab(df_clean[\"Cabin_Known\"], df_clean[\"Survived\"], normalize=\"index\") * 100\n",
    ")\n",
    "print(\"\\nPercentages:\")\n",
    "print(cabin_survival_pct.round(1))\n",
    "\n",
    "# Visualization\n",
    "plt.figure(figsize=(10, 4))\n",
    "\n",
    "plt.subplot(1, 2, 1)\n",
    "sns.barplot(\n",
    "    data=df_clean, x=\"Cabin_Known\", y=\"Survived\", palette=[\"coral\", \"lightgreen\"]\n",
    ")\n",
    "plt.title(\"Survival by Cabin Availability\")\n",
    "plt.xlabel(\"Cabin Known (0=No, 1=Yes)\")\n",
    "plt.ylabel(\"Survival Rate\")\n",
    "\n",
    "plt.subplot(1, 2, 2)\n",
    "sns.countplot(\n",
    "    data=df_clean, x=\"Cabin_Known\", hue=\"Survived\", palette=[\"crimson\", \"forestgreen\"]\n",
    ")\n",
    "plt.title(\"Count by Cabin Availability\")\n",
    "plt.xlabel(\"Cabin Known (0=No, 1=Yes)\")\n",
    "plt.ylabel(\"Number of Passengers\")\n",
    "\n",
    "plt.tight_layout()\n",
    "save_current_plot(\"cabin_analysis\", \"../results/figures/eda_plots\")\n",
    "plt.show()\n",
    "\n",
    "\n",
    "# Remove original Cabin variable\n",
    "df_clean = df_clean.drop(\"Cabin\", axis=1)\n",
    "print(\"✅ Cabin variable replaced with Cabin_Known (binary)\")"
   ]
  },
  {
   "cell_type": "markdown",
   "id": "36f22307",
   "metadata": {},
   "source": [
    "### 4.3 Handling Embarked Variable (0.2% missing)"
   ]
  },
  {
   "cell_type": "code",
   "execution_count": 8,
   "id": "f3cfb08c",
   "metadata": {},
   "outputs": [
    {
     "name": "stdout",
     "output_type": "stream",
     "text": [
      "\n",
      "⚓ HANDLING EMBARKED VARIABLE:\n",
      "Missing values: 2 (0.2%)\n",
      "\n",
      "Records with missing Embarked:\n",
      "     Pclass     Sex   Age  Fare  Survived\n",
      "61        1  female  38.0  80.0         1\n",
      "829       1  female  62.0  80.0         1\n",
      "\n",
      "Port distribution:\n",
      "Embarked\n",
      "S    644\n",
      "C    168\n",
      "Q     77\n",
      "Name: count, dtype: int64\n",
      "Most frequent port: S (644 passengers)\n",
      "✅ Missing values imputed with mode: 'S'\n",
      "Verification - Missing Embarked after: 0\n",
      "\n",
      "👶👴 HANDLING AGE VARIABLE:\n",
      "Missing values: 177 (19.9%)\n",
      "\n",
      "Age statistics (non-null values):\n",
      "count    714.000000\n",
      "mean      29.699118\n",
      "std       14.526497\n",
      "min        0.420000\n",
      "25%       20.125000\n",
      "50%       28.000000\n",
      "75%       38.000000\n",
      "max       80.000000\n",
      "Name: Age, dtype: float64\n",
      "\n",
      "Age missing patterns by other variables:\n",
      "\n",
      "By gender:\n",
      "Age     False  True  All\n",
      "Sex                     \n",
      "female    261    53  314\n",
      "male      453   124  577\n",
      "All       714   177  891\n",
      "\n",
      "By class:\n",
      "Age     False  True  All\n",
      "Pclass                  \n",
      "1         186    30  216\n",
      "2         173    11  184\n",
      "3         355   136  491\n",
      "All       714   177  891\n",
      "\n",
      "🔧 IMPUTATION STRATEGY:\n",
      "Using group median (Sex + Pclass)\n",
      "\n",
      "Group medians:\n",
      "Sex     Pclass\n",
      "female  1         35.0\n",
      "        2         28.0\n",
      "        3         21.5\n",
      "male    1         40.0\n",
      "        2         30.0\n",
      "        3         25.0\n",
      "Name: Age, dtype: float64\n",
      "✅ Age imputed. Missing values after: 0\n",
      "✅ Graph saved: ../results/figures/eda_plots\\age_imputation_comparison.png\n"
     ]
    },
    {
     "data": {
      "image/png": "[encoded data removed]",
      "text/plain": [
       "<Figure size 1500x500 with 3 Axes>"
      ]
     },
     "metadata": {},
     "output_type": "display_data"
    }
   ],
   "source": [
    "print(\"\\n⚓ HANDLING EMBARKED VARIABLE:\")\n",
    "print(\n",
    "    f\"Missing values: {df_clean['Embarked'].isnull().sum()} ({df_clean['Embarked'].isnull().mean()*100:.1f}%)\"\n",
    ")\n",
    "\n",
    "# Analyze records with missing Embarked\n",
    "missing_embarked = df_clean[df_clean[\"Embarked\"].isnull()]\n",
    "print(\"\\nRecords with missing Embarked:\")\n",
    "print(missing_embarked[[\"Pclass\", \"Sex\", \"Age\", \"Fare\", \"Survived\"]])\n",
    "\n",
    "# Port distribution\n",
    "embarked_counts = df_clean[\"Embarked\"].value_counts()\n",
    "print(f\"\\nPort distribution:\")\n",
    "print(embarked_counts)\n",
    "print(\n",
    "    f\"Most frequent port: {embarked_counts.index[0]} ({embarked_counts.iloc[0]} passengers)\"\n",
    ")\n",
    "\n",
    "# Impute with mode (Southampton - S)\n",
    "mode_embarked = df_clean[\"Embarked\"].mode()[0]\n",
    "df_clean[\"Embarked\"].fillna(mode_embarked, inplace=True)\n",
    "\n",
    "print(f\"✅ Missing values imputed with mode: '{mode_embarked}'\")\n",
    "print(\n",
    "    f\"Verification - Missing Embarked after: {df_clean['Embarked'].isnull().sum()}\"\n",
    ")\n",
    "\n",
    "# ### 4.4 Handling Age Variable (19.9% missing)\n",
    "\n",
    "print(\"\\n👶👴 HANDLING AGE VARIABLE:\")\n",
    "print(\n",
    "    f\"Missing values: {df_clean['Age'].isnull().sum()} ({df_clean['Age'].isnull().mean()*100:.1f}%)\"\n",
    ")\n",
    "\n",
    "# Basic Age statistics\n",
    "print(\"\\nAge statistics (non-null values):\")\n",
    "print(df_clean[\"Age\"].describe())\n",
    "\n",
    "# Analyze Age missing patterns\n",
    "age_missing = df_clean[\"Age\"].isnull()\n",
    "print(f\"\\nAge missing patterns by other variables:\")\n",
    "\n",
    "# By gender\n",
    "age_missing_by_sex = pd.crosstab(df_clean[\"Sex\"], age_missing, margins=True)\n",
    "print(\"\\nBy gender:\")\n",
    "print(age_missing_by_sex)\n",
    "\n",
    "# By class\n",
    "age_missing_by_class = pd.crosstab(df_clean[\"Pclass\"], age_missing, margins=True)\n",
    "print(\"\\nBy class:\")\n",
    "print(age_missing_by_class)\n",
    "\n",
    "# Imputation strategy: median by group (Sex + Pclass)\n",
    "print(\"\\n🔧 IMPUTATION STRATEGY:\")\n",
    "print(\"Using group median (Sex + Pclass)\")\n",
    "\n",
    "# Calculate group medians\n",
    "age_medians = df_clean.groupby([\"Sex\", \"Pclass\"])[\"Age\"].median()\n",
    "print(\"\\nGroup medians:\")\n",
    "print(age_medians)\n",
    "\n",
    "\n",
    "# Imputation function\n",
    "def impute_age(row):\n",
    "    if pd.isnull(row[\"Age\"]):\n",
    "        return age_medians[row[\"Sex\"], row[\"Pclass\"]]\n",
    "    return row[\"Age\"]\n",
    "\n",
    "\n",
    "# Apply imputation\n",
    "df_clean[\"Age\"] = df_clean.apply(impute_age, axis=1)\n",
    "\n",
    "print(f\"✅ Age imputed. Missing values after: {df_clean['Age'].isnull().sum()}\")\n",
    "\n",
    "# Visualize distribution before and after\n",
    "plt.figure(figsize=(15, 5))\n",
    "\n",
    "plt.subplot(1, 3, 1)\n",
    "df_original[\"Age\"].hist(bins=30, alpha=0.7, color=\"coral\", label=\"Original\")\n",
    "plt.title(\"Original Age Distribution\")\n",
    "plt.xlabel(\"Age\")\n",
    "plt.ylabel(\"Frequency\")\n",
    "\n",
    "plt.subplot(1, 3, 2)\n",
    "df_clean[\"Age\"].hist(\n",
    "    bins=30, alpha=0.7, color=\"lightgreen\", label=\"After Imputation\"\n",
    ")\n",
    "plt.title(\"Distribution After Imputation\")\n",
    "plt.xlabel(\"Age\")\n",
    "plt.ylabel(\"Frequency\")\n",
    "\n",
    "plt.subplot(1, 3, 3)\n",
    "df_original[\"Age\"].hist(bins=30, alpha=0.5, color=\"coral\", label=\"Original\")\n",
    "df_clean[\"Age\"].hist(bins=30, alpha=0.5, color=\"lightgreen\", label=\"Imputed\")\n",
    "plt.title(\"Distribution Comparison\")\n",
    "plt.xlabel(\"Age\")\n",
    "plt.ylabel(\"Frequency\")\n",
    "plt.legend()\n",
    "\n",
    "plt.tight_layout()\n",
    "save_current_plot(\"age_imputation_comparison\", \"../results/figures/eda_plots\")\n",
    "plt.show()"
   ]
  },
  {
   "cell_type": "markdown",
   "id": "087ca732",
   "metadata": {},
   "source": [
    "## 5. Outlier Detection and Treatment"
   ]
  },
  {
   "cell_type": "code",
   "execution_count": 9,
   "id": "34797c63",
   "metadata": {},
   "outputs": [
    {
     "name": "stdout",
     "output_type": "stream",
     "text": [
      "\n",
      "🎯 OUTLIER DETECTION\n",
      "=========================\n",
      "\n",
      "Age:\n",
      "  Outliers detected: 33 (3.7%)\n",
      "  Normal range: [-0.25, 57.75]\n",
      "  Outlier values: [np.float64(58.0), np.float64(59.0), np.float64(60.0), np.float64(61.0), np.float64(62.0), np.float64(63.0), np.float64(64.0), np.float64(65.0), np.float64(66.0), np.float64(70.0), np.float64(70.5), np.float64(71.0), np.float64(74.0), np.float64(80.0)]\n",
      "\n",
      "SibSp:\n",
      "  Outliers detected: 46 (5.2%)\n",
      "  Normal range: [-1.50, 2.50]\n",
      "  Outlier values: [np.int64(3), np.int64(4), np.int64(5), np.int64(8)]\n",
      "\n",
      "Parch:\n",
      "  Outliers detected: 213 (23.9%)\n",
      "  Normal range: [0.00, 0.00]\n",
      "  Outlier values: [np.int64(1), np.int64(2), np.int64(3), np.int64(4), np.int64(5), np.int64(6)]\n",
      "\n",
      "Fare:\n",
      "  Outliers detected: 116 (13.0%)\n",
      "  Normal range: [-26.72, 65.63]\n",
      "  Outlier values: [np.float64(66.6), np.float64(69.3), np.float64(69.55), np.float64(71.0), np.float64(71.2833), np.float64(73.5), np.float64(75.25), np.float64(76.2917), np.float64(76.7292), np.float64(77.2875), np.float64(77.9583), np.float64(78.2667), np.float64(78.85), np.float64(79.2), np.float64(79.65), np.float64(80.0), np.float64(81.8583), np.float64(82.1708), np.float64(83.1583), np.float64(83.475), np.float64(86.5), np.float64(89.1042), np.float64(90.0), np.float64(91.0792), np.float64(93.5), np.float64(106.425), np.float64(108.9), np.float64(110.8833), np.float64(113.275), np.float64(120.0), np.float64(133.65), np.float64(134.5), np.float64(135.6333), np.float64(146.5208), np.float64(151.55), np.float64(153.4625), np.float64(164.8667), np.float64(211.3375), np.float64(211.5), np.float64(221.7792), np.float64(227.525), np.float64(247.5208), np.float64(262.375), np.float64(263.0), np.float64(512.3292)]\n",
      "✅ Graph saved: ../results/figures/eda_plots\\outliers_detection.png\n"
     ]
    },
    {
     "data": {
      "image/png": "[encoded data removed]",
      "text/plain": [
       "<Figure size 1600x400 with 4 Axes>"
      ]
     },
     "metadata": {},
     "output_type": "display_data"
    }
   ],
   "source": [
    "print(\"\\n🎯 OUTLIER DETECTION\")\n",
    "print(\"=\" * 25)\n",
    "\n",
    "# Numeric variables for outlier analysis\n",
    "numeric_vars = [\"Age\", \"SibSp\", \"Parch\", \"Fare\"]\n",
    "\n",
    "\n",
    "def detect_outliers_iqr(data, column):\n",
    "    \"\"\"Detect outliers using IQR method\"\"\"\n",
    "    Q1 = data[column].quantile(0.25)\n",
    "    Q3 = data[column].quantile(0.75)\n",
    "    IQR = Q3 - Q1\n",
    "    lower_bound = Q1 - 1.5 * IQR\n",
    "    upper_bound = Q3 + 1.5 * IQR\n",
    "\n",
    "    outliers = data[(data[column] < lower_bound) | (data[column] > upper_bound)]\n",
    "    return outliers, lower_bound, upper_bound\n",
    "\n",
    "\n",
    "# Outlier analysis by variable\n",
    "outliers_summary = {}\n",
    "\n",
    "for var in numeric_vars:\n",
    "    outliers, lower, upper = detect_outliers_iqr(df_clean, var)\n",
    "    outliers_summary[var] = {\n",
    "        \"count\": len(outliers),\n",
    "        \"percentage\": len(outliers) / len(df_clean) * 100,\n",
    "        \"lower_bound\": lower,\n",
    "        \"upper_bound\": upper,\n",
    "    }\n",
    "\n",
    "    print(f\"\\n{var}:\")\n",
    "    print(\n",
    "        f\"  Outliers detected: {len(outliers)} ({len(outliers)/len(df_clean)*100:.1f}%)\"\n",
    "    )\n",
    "    print(f\"  Normal range: [{lower:.2f}, {upper:.2f}]\")\n",
    "    if len(outliers) > 0:\n",
    "        print(f\"  Outlier values: {sorted(outliers[var].unique())}\")\n",
    "\n",
    "# Outlier visualization\n",
    "plt.figure(figsize=(16, 4))\n",
    "\n",
    "for i, var in enumerate(numeric_vars, 1):\n",
    "    plt.subplot(1, 4, i)\n",
    "    sns.boxplot(data=df_clean, y=var, color=\"lightblue\")\n",
    "    plt.title(f\"{var} Boxplot\")\n",
    "\n",
    "plt.tight_layout()\n",
    "save_current_plot(\"outliers_detection\", \"../results/figures/eda_plots\")\n",
    "plt.show()"
   ]
  },
  {
   "cell_type": "markdown",
   "id": "d107b68a",
   "metadata": {},
   "source": [
    "5.1 Specific Outlier Treatment"
   ]
  },
  {
   "cell_type": "code",
   "execution_count": 10,
   "id": "17aed345",
   "metadata": {},
   "outputs": [
    {
     "name": "stdout",
     "output_type": "stream",
     "text": [
      "\n",
      "🔧 OUTLIER TREATMENT:\n",
      "\n",
      "Fare - Outliers above $65.63:\n",
      "     Pclass     Sex   Age      Fare  Survived\n",
      "258       1  female  35.0  512.3292         1\n",
      "737       1    male  35.0  512.3292         1\n",
      "679       1    male  36.0  512.3292         1\n",
      "27        1    male  19.0  263.0000         0\n",
      "341       1  female  24.0  263.0000         1\n",
      "✅ Decision: Keep Fare outliers (possible luxury suites)\n",
      "\n",
      "Age - Outliers:\n",
      "Below -0.2 years: 0\n",
      "Above 57.8 years: 33\n",
      "\n",
      "Extreme ages:\n",
      "        Sex   Age  Pclass  Survived\n",
      "11   female  58.0       1         1\n",
      "195  female  58.0       1         1\n",
      "268  female  58.0       1         1\n",
      "487    male  58.0       1         0\n",
      "659    male  58.0       1         0\n",
      "94     male  59.0       3         0\n",
      "232    male  59.0       2         0\n",
      "366  female  60.0       1         1\n",
      "587    male  60.0       1         1\n",
      "684    male  60.0       2         0\n",
      "694    male  60.0       1         0\n",
      "625    male  61.0       1         0\n",
      "326    male  61.0       3         0\n",
      "170    male  61.0       1         0\n",
      "252    male  62.0       1         0\n",
      "555    male  62.0       1         0\n",
      "829  female  62.0       1         1\n",
      "570    male  62.0       2         1\n",
      "275  female  63.0       1         1\n",
      "483  female  63.0       3         1\n",
      "545    male  64.0       1         0\n",
      "438    male  64.0       1         0\n",
      "54     male  65.0       1         0\n",
      "280    male  65.0       3         0\n",
      "456    male  65.0       1         0\n",
      "33     male  66.0       2         0\n",
      "745    male  70.0       1         0\n",
      "672    male  70.0       2         0\n",
      "116    male  70.5       3         0\n",
      "96     male  71.0       1         0\n",
      "493    male  71.0       1         0\n",
      "851    male  74.0       3         0\n",
      "630    male  80.0       1         1\n",
      "✅ Decision: Keep Age outliers (demographically realistic)\n",
      "\n",
      "Large families:\n",
      "SibSp > 3: 30 families\n",
      "Parch > 3: 10 families\n",
      "✅ Decision: Keep large families (historically valid)\n"
     ]
    }
   ],
   "source": [
    "print(\"\\n🔧 OUTLIER TREATMENT:\")\n",
    "\n",
    "# Fare: Analyze extreme outliers\n",
    "fare_outliers, _, fare_upper = detect_outliers_iqr(df_clean, \"Fare\")\n",
    "print(f\"\\nFare - Outliers above ${fare_upper:.2f}:\")\n",
    "extreme_fare = df_clean[df_clean[\"Fare\"] > fare_upper].sort_values(\n",
    "    \"Fare\", ascending=False\n",
    ")\n",
    "print(extreme_fare[[\"Pclass\", \"Sex\", \"Age\", \"Fare\", \"Survived\"]].head())\n",
    "\n",
    "# Decision: Keep Fare outliers (could be legitimate - luxury suites)\n",
    "print(\"✅ Decision: Keep Fare outliers (possible luxury suites)\")\n",
    "\n",
    "# Age: Verify extreme ages\n",
    "age_outliers, age_lower, age_upper = detect_outliers_iqr(df_clean, \"Age\")\n",
    "print(f\"\\nAge - Outliers:\")\n",
    "print(f\"Below {age_lower:.1f} years: {len(df_clean[df_clean['Age'] < age_lower])}\")\n",
    "print(f\"Above {age_upper:.1f} years: {len(df_clean[df_clean['Age'] > age_upper])}\")\n",
    "\n",
    "extreme_ages = df_clean[(df_clean[\"Age\"] < age_lower) | (df_clean[\"Age\"] > age_upper)]\n",
    "print(\"\\nExtreme ages:\")\n",
    "print(extreme_ages[[\"Sex\", \"Age\", \"Pclass\", \"Survived\"]].sort_values(\"Age\"))\n",
    "\n",
    "# Decision: Keep Age outliers (infants and elderly are realistic in 1912)\n",
    "print(\"✅ Decision: Keep Age outliers (demographically realistic)\")\n",
    "\n",
    "# SibSp and Parch: Large families\n",
    "sibsp_outliers = df_clean[df_clean[\"SibSp\"] > 3]\n",
    "parch_outliers = df_clean[df_clean[\"Parch\"] > 3]\n",
    "\n",
    "print(f\"\\nLarge families:\")\n",
    "print(f\"SibSp > 3: {len(sibsp_outliers)} families\")\n",
    "print(f\"Parch > 3: {len(parch_outliers)} families\")\n",
    "\n",
    "# Decision: Keep (large families were common in 1912)\n",
    "print(\"✅ Decision: Keep large families (historically valid)\")"
   ]
  },
  {
   "cell_type": "markdown",
   "id": "84406c8c",
   "metadata": {},
   "source": [
    "## 6. Consistency Validation"
   ]
  },
  {
   "cell_type": "code",
   "execution_count": 11,
   "id": "d8f47d8e",
   "metadata": {},
   "outputs": [
    {
     "name": "stdout",
     "output_type": "stream",
     "text": [
      "\n",
      "✅ CONSISTENCY VALIDATION\n",
      "==============================\n",
      "Consistency check:\n",
      "  Age: 0 inconsistent values\n",
      "  Fare: 0 inconsistent values\n",
      "  SibSp: 0 inconsistent values\n",
      "  Parch: 0 inconsistent values\n",
      "  Pclass: 0 inconsistent values\n",
      "  Sex: 0 inconsistent values\n",
      "  Embarked: 0 inconsistent values\n",
      "  Survived: 0 inconsistent values\n"
     ]
    }
   ],
   "source": [
    "print(\"\\n✅ CONSISTENCY VALIDATION\")\n",
    "print(\"=\" * 30)\n",
    "\n",
    "# Verify variable ranges\n",
    "consistency_checks = {\n",
    "    \"Age\": (df_clean[\"Age\"] >= 0) & (df_clean[\"Age\"] <= 120),\n",
    "    \"Fare\": df_clean[\"Fare\"] >= 0,\n",
    "    \"SibSp\": df_clean[\"SibSp\"] >= 0,\n",
    "    \"Parch\": df_clean[\"Parch\"] >= 0,\n",
    "    \"Pclass\": df_clean[\"Pclass\"].isin([1, 2, 3]),\n",
    "    \"Sex\": df_clean[\"Sex\"].isin([\"male\", \"female\"]),\n",
    "    \"Embarked\": df_clean[\"Embarked\"].isin([\"C\", \"Q\", \"S\"]),\n",
    "    \"Survived\": df_clean[\"Survived\"].isin([0, 1]),\n",
    "}\n",
    "\n",
    "print(\"Consistency check:\")\n",
    "for var, check in consistency_checks.items():\n",
    "    inconsistent = (~check).sum()\n",
    "    print(f\"  {var}: {inconsistent} inconsistent values\")\n",
    "    if inconsistent > 0:\n",
    "        print(f\"    Problematic values: {df_clean[~check][var].unique()}\")"
   ]
  },
  {
   "cell_type": "markdown",
   "id": "62613d55",
   "metadata": {},
   "source": [
    "## 7. Final Clean Dataset Verification"
   ]
  },
  {
   "cell_type": "code",
   "execution_count": 12,
   "id": "133734b8",
   "metadata": {},
   "outputs": [
    {
     "name": "stdout",
     "output_type": "stream",
     "text": [
      "\n",
      "🏁 CLEAN DATASET - FINAL VERIFICATION\n",
      "========================================\n",
      "📊 Final dimensions:\n",
      "  Original: (891, 12)\n",
      "  Clean: (891, 9)\n",
      "  Rows removed: 0\n",
      "  Columns removed: 3\n",
      "\n",
      "📋 Clean dataset information:\n",
      "<class 'pandas.core.frame.DataFrame'>\n",
      "RangeIndex: 891 entries, 0 to 890\n",
      "Data columns (total 9 columns):\n",
      " #   Column       Non-Null Count  Dtype  \n",
      "---  ------       --------------  -----  \n",
      " 0   Survived     891 non-null    int64  \n",
      " 1   Pclass       891 non-null    int64  \n",
      " 2   Sex          891 non-null    object \n",
      " 3   Age          891 non-null    float64\n",
      " 4   SibSp        891 non-null    int64  \n",
      " 5   Parch        891 non-null    int64  \n",
      " 6   Fare         891 non-null    float64\n",
      " 7   Embarked     891 non-null    object \n",
      " 8   Cabin_Known  891 non-null    int64  \n",
      "dtypes: float64(2), int64(5), object(2)\n",
      "memory usage: 62.8+ KB\n",
      "None\n",
      "\n",
      "❌ Final missing values check:\n",
      "Series([], dtype: int64)\n",
      "✅ Perfect! No missing values remain\n",
      "\n",
      "📈 Final descriptive statistics:\n",
      "         Survived      Pclass         Age       SibSp       Parch        Fare  \\\n",
      "count  891.000000  891.000000  891.000000  891.000000  891.000000  891.000000   \n",
      "mean     0.383838    2.308642   29.112424    0.523008    0.381594   32.204208   \n",
      "std      0.486592    0.836071   13.304424    1.102743    0.806057   49.693429   \n",
      "min      0.000000    1.000000    0.420000    0.000000    0.000000    0.000000   \n",
      "25%      0.000000    2.000000   21.500000    0.000000    0.000000    7.910400   \n",
      "50%      0.000000    3.000000   26.000000    0.000000    0.000000   14.454200   \n",
      "75%      1.000000    3.000000   36.000000    1.000000    0.000000   31.000000   \n",
      "max      1.000000    3.000000   80.000000    8.000000    6.000000  512.329200   \n",
      "\n",
      "       Cabin_Known  \n",
      "count   891.000000  \n",
      "mean      0.228956  \n",
      "std       0.420397  \n",
      "min       0.000000  \n",
      "25%       0.000000  \n",
      "50%       0.000000  \n",
      "75%       0.000000  \n",
      "max       1.000000  \n"
     ]
    }
   ],
   "source": [
    "print(\"\\n🏁 CLEAN DATASET - FINAL VERIFICATION\")\n",
    "print(\"=\" * 40)\n",
    "\n",
    "print(\"📊 Final dimensions:\")\n",
    "print(f\"  Original: {df_original.shape}\")\n",
    "print(f\"  Clean: {df_clean.shape}\")\n",
    "print(f\"  Rows removed: {len(df_original) - len(df_clean)}\")\n",
    "print(f\"  Columns removed: {len(df_original.columns) - len(df_clean.columns)}\")\n",
    "\n",
    "print(\"\\n📋 Clean dataset information:\")\n",
    "print(df_clean.info())\n",
    "\n",
    "print(\"\\n❌ Final missing values check:\")\n",
    "final_missing = df_clean.isnull().sum()\n",
    "print(final_missing[final_missing > 0])\n",
    "\n",
    "if final_missing.sum() == 0:\n",
    "    print(\"✅ Perfect! No missing values remain\")\n",
    "else:\n",
    "    print(\"⚠️ There are still missing values to handle\")\n",
    "\n",
    "print(\"\\n📈 Final descriptive statistics:\")\n",
    "print(df_clean.describe())"
   ]
  },
  {
   "cell_type": "markdown",
   "id": "3c7aec21",
   "metadata": {},
   "source": [
    "## 8. Summary of Changes Made"
   ]
  },
  {
   "cell_type": "code",
   "execution_count": 13,
   "id": "eb4c270e",
   "metadata": {},
   "outputs": [
    {
     "name": "stdout",
     "output_type": "stream",
     "text": [
      "\n",
      "📝 DATA CLEANING SUMMARY\n",
      "===================================\n",
      "✅ Removed variables: ['PassengerId', 'Name', 'Ticket']\n",
      "✅ Cabin: Converted to binary variable 'Cabin_Known'\n",
      "✅ Embarked: 2 missing values imputed with mode ('S')\n",
      "✅ Age: 177 missing values imputed with group median (Sex + Pclass)\n",
      "✅ Outliers: Detected but kept (historically valid)\n",
      "✅ New variables: ['Cabin_Known']\n",
      "✅ Final variables: 9\n",
      "✅ Final records: 891\n"
     ]
    }
   ],
   "source": [
    "print(\"\\n📝 DATA CLEANING SUMMARY\")\n",
    "print(\"=\" * 35)\n",
    "\n",
    "changes_summary = {\n",
    "    \"Removed variables\": [\"PassengerId\", \"Name\", \"Ticket\"],\n",
    "    \"Cabin\": \"Converted to binary variable 'Cabin_Known'\",\n",
    "    \"Embarked\": \"2 missing values imputed with mode ('S')\",\n",
    "    \"Age\": \"177 missing values imputed with group median (Sex + Pclass)\",\n",
    "    \"Outliers\": \"Detected but kept (historically valid)\",\n",
    "    \"New variables\": [\"Cabin_Known\"],\n",
    "    \"Final variables\": len(df_clean.columns),\n",
    "    \"Final records\": len(df_clean),\n",
    "}\n",
    "\n",
    "for key, value in changes_summary.items():\n",
    "    print(f\"✅ {key}: {value}\")"
   ]
  },
  {
   "cell_type": "markdown",
   "id": "bd7ec231",
   "metadata": {},
   "source": [
    "## 9. Save Clean Dataset"
   ]
  },
  {
   "cell_type": "code",
   "execution_count": 14,
   "id": "85713c72",
   "metadata": {},
   "outputs": [
    {
     "name": "stdout",
     "output_type": "stream",
     "text": [
      "\n",
      "💾 SAVING CLEAN DATASET\n",
      "============================\n",
      "✅ Clean dataset saved to: ../data/processed/train_processed.csv\n",
      "📊 File saved: 891 rows × 9 columns\n",
      "🔍 Verification: file read successfully ((891, 9))\n"
     ]
    }
   ],
   "source": [
    "print(\"\\n💾 SAVING CLEAN DATASET\")\n",
    "print(\"=\" * 28)\n",
    "\n",
    "# Save to data/processed/\n",
    "output_path = \"../data/processed/train_processed.csv\"\n",
    "df_clean.to_csv(output_path, index=False)\n",
    "\n",
    "print(f\"✅ Clean dataset saved to: {output_path}\")\n",
    "print(f\"📊 File saved: {df_clean.shape[0]} rows × {df_clean.shape[1]} columns\")\n",
    "\n",
    "# Verify successful save\n",
    "df_verify = pd.read_csv(output_path)\n",
    "print(f\"🔍 Verification: file read successfully ({df_verify.shape})\")"
   ]
  },
  {
   "cell_type": "markdown",
   "id": "6184e249",
   "metadata": {},
   "source": [
    "## 10. Next Steps"
   ]
  },
  {
   "cell_type": "code",
   "execution_count": 15,
   "id": "ab1f3249",
   "metadata": {},
   "outputs": [
    {
     "name": "stdout",
     "output_type": "stream",
     "text": [
      "\n",
      "🚀 NEXT STEPS\n",
      "==================\n",
      "1. Feature Engineering (03_feature_engineering.ipynb)\n",
      "  - Create FamilySize variable (SibSp + Parch + 1)\n",
      "  - Extract titles from names (Mr, Mrs, Miss, Master, etc.)\n",
      "  - Create age categories (Child, Adult, Senior)\n",
      "  - Create fare bins (Low, Medium, High, Premium)\n",
      "  - Categorical variable encoding\n",
      "  - Numeric variable scaling\n",
      "8. Modeling (04_modeling.ipynb)\n",
      "  - Split train/validation/test\n",
      "  - Implement algorithms: Logistic Regression, Random Forest, SVM, Naive Bayes\n",
      "  - Cross-validation and hyperparameter tuning\n",
      "\n",
      "✅ Data cleaning completed successfully!\n",
      "📊 Dataset ready for Feature Engineering\n"
     ]
    }
   ],
   "source": [
    "print(\"\\n🚀 NEXT STEPS\")\n",
    "print(\"=\" * 18)\n",
    "\n",
    "next_steps = [\n",
    "    \"Feature Engineering (03_feature_engineering.ipynb)\",\n",
    "    \"- Create FamilySize variable (SibSp + Parch + 1)\",\n",
    "    \"- Extract titles from names (Mr, Mrs, Miss, Master, etc.)\",\n",
    "    \"- Create age categories (Child, Adult, Senior)\",\n",
    "    \"- Create fare bins (Low, Medium, High, Premium)\",\n",
    "    \"- Categorical variable encoding\",\n",
    "    \"- Numeric variable scaling\",\n",
    "    \"Modeling (04_modeling.ipynb)\",\n",
    "    \"- Split train/validation/test\",\n",
    "    \"- Implement algorithms: Logistic Regression, Random Forest, SVM, Naive Bayes\",\n",
    "    \"- Cross-validation and hyperparameter tuning\",\n",
    "]\n",
    "\n",
    "for i, step in enumerate(next_steps, 1):\n",
    "    if step.startswith(\"-\"):\n",
    "        print(f\"  {step}\")\n",
    "    else:\n",
    "        print(f\"{i}. {step}\")\n",
    "\n",
    "print(\"\\n✅ Data cleaning completed successfully!\")\n",
    "print(\"📊 Dataset ready for Feature Engineering\")"
   ]
  }
 ],
 "metadata": {
  "kernelspec": {
   "display_name": "venv",
   "language": "python",
   "name": "python3"
  },
  "language_info": {
   "codemirror_mode": {
    "name": "ipython",
    "version": 3
   },
   "file_extension": ".py",
   "mimetype": "text/x-python",
   "name": "python",
   "nbconvert_exporter": "python",
   "pygments_lexer": "ipython3",
   "version": "3.13.2"
  }
 },
 "nbformat": 4,
 "nbformat_minor": 5
}
